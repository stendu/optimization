{
 "cells": [
  {
   "cell_type": "code",
   "execution_count": 1,
   "metadata": {},
   "outputs": [],
   "source": [
    "import pandas as pd\n",
    "from random import uniform, normalvariate, randint\n",
    "import numpy as np\n",
    "import seaborn as sns\n",
    "import matplotlib.pyplot as plt\n",
    "\n",
    "%load_ext autotime"
   ]
  },
  {
   "cell_type": "code",
   "execution_count": 2,
   "metadata": {},
   "outputs": [
    {
     "name": "stdout",
     "output_type": "stream",
     "text": [
      "time: 595 µs\n"
     ]
    }
   ],
   "source": [
    "# Generate random data for equation 4x + 5\n",
    "\n",
    "def f(x):\n",
    "    return 4*x + 5"
   ]
  },
  {
   "cell_type": "code",
   "execution_count": 3,
   "metadata": {},
   "outputs": [
    {
     "name": "stdout",
     "output_type": "stream",
     "text": [
      "time: 8.83 ms\n"
     ]
    }
   ],
   "source": [
    "data = pd.DataFrame(columns=[\"x\",\"y\"])"
   ]
  },
  {
   "cell_type": "code",
   "execution_count": 4,
   "metadata": {},
   "outputs": [
    {
     "name": "stdout",
     "output_type": "stream",
     "text": [
      "time: 739 ms\n"
     ]
    }
   ],
   "source": [
    "#Generate 1000 data points\n",
    "\n",
    "for i in range(1000):\n",
    "    x_axis = round(uniform(1,10),2)\n",
    "    y_axis = f(x_axis)\n",
    "    ydash_axis = y_axis + normalvariate(12,2)\n",
    "    data = data.append(pd.DataFrame(columns=[\"x\",\"y\"], data=[[x_axis, ydash_axis]]))"
   ]
  },
  {
   "cell_type": "code",
   "execution_count": 5,
   "metadata": {},
   "outputs": [
    {
     "data": {
      "text/html": [
       "<div>\n",
       "<style scoped>\n",
       "    .dataframe tbody tr th:only-of-type {\n",
       "        vertical-align: middle;\n",
       "    }\n",
       "\n",
       "    .dataframe tbody tr th {\n",
       "        vertical-align: top;\n",
       "    }\n",
       "\n",
       "    .dataframe thead th {\n",
       "        text-align: right;\n",
       "    }\n",
       "</style>\n",
       "<table border=\"1\" class=\"dataframe\">\n",
       "  <thead>\n",
       "    <tr style=\"text-align: right;\">\n",
       "      <th></th>\n",
       "      <th>x</th>\n",
       "      <th>y</th>\n",
       "    </tr>\n",
       "  </thead>\n",
       "  <tbody>\n",
       "    <tr>\n",
       "      <th>0</th>\n",
       "      <td>3.25</td>\n",
       "      <td>28.967235</td>\n",
       "    </tr>\n",
       "    <tr>\n",
       "      <th>0</th>\n",
       "      <td>6.85</td>\n",
       "      <td>43.828518</td>\n",
       "    </tr>\n",
       "    <tr>\n",
       "      <th>0</th>\n",
       "      <td>7.40</td>\n",
       "      <td>45.349152</td>\n",
       "    </tr>\n",
       "    <tr>\n",
       "      <th>0</th>\n",
       "      <td>3.29</td>\n",
       "      <td>30.200438</td>\n",
       "    </tr>\n",
       "    <tr>\n",
       "      <th>0</th>\n",
       "      <td>6.86</td>\n",
       "      <td>43.928543</td>\n",
       "    </tr>\n",
       "  </tbody>\n",
       "</table>\n",
       "</div>"
      ],
      "text/plain": [
       "      x          y\n",
       "0  3.25  28.967235\n",
       "0  6.85  43.828518\n",
       "0  7.40  45.349152\n",
       "0  3.29  30.200438\n",
       "0  6.86  43.928543"
      ]
     },
     "execution_count": 5,
     "metadata": {},
     "output_type": "execute_result"
    },
    {
     "name": "stdout",
     "output_type": "stream",
     "text": [
      "time: 18.4 ms\n"
     ]
    }
   ],
   "source": [
    "data.head(5)"
   ]
  },
  {
   "cell_type": "code",
   "execution_count": 10,
   "metadata": {},
   "outputs": [
    {
     "name": "stdout",
     "output_type": "stream",
     "text": [
      "time: 1.15 ms\n"
     ]
    }
   ],
   "source": [
    "# Get input data\n",
    "X = data.iloc[:, 0]\n",
    "Y = data.iloc[:, 1]"
   ]
  },
  {
   "cell_type": "code",
   "execution_count": 11,
   "metadata": {},
   "outputs": [
    {
     "name": "stdout",
     "output_type": "stream",
     "text": [
      "time: 579 µs\n"
     ]
    }
   ],
   "source": [
    "# Build the model using hill climbing optimization technique\n",
    "# Linear equation to be formed is y = mx + b\n",
    "m = 0\n",
    "b = 0"
   ]
  },
  {
   "cell_type": "code",
   "execution_count": 12,
   "metadata": {},
   "outputs": [
    {
     "name": "stdout",
     "output_type": "stream",
     "text": [
      "time: 795 µs\n"
     ]
    }
   ],
   "source": [
    "epochs = 40000 # number of iterations\n",
    "n = float(len(X))  # Number of elements in X\n",
    "best_loss = 10000000000000.0  # Initialize with a really large value"
   ]
  },
  {
   "cell_type": "code",
   "execution_count": 13,
   "metadata": {},
   "outputs": [
    {
     "name": "stdout",
     "output_type": "stream",
     "text": [
      "0.7466120384598552 -0.009338941146236391\n",
      "4.000420578219156 16.989362518100968\n",
      "4.007199725298653 17.076647848120224\n",
      "4.007199725298653 17.076647848120224\n",
      "4.020798842963952 16.931719320450597\n",
      "4.020798842963952 16.931719320450597\n",
      "4.002893986454181 17.036747767006254\n",
      "4.0046168363859405 17.03347621406799\n",
      "4.0046168363859405 17.03347621406799\n",
      "4.0046168363859405 17.03347621406799\n",
      "4.0046168363859405 17.03347621406799\n",
      "4.0046168363859405 17.03347621406799\n",
      "4.0046168363859405 17.03347621406799\n",
      "4.0046168363859405 17.03347621406799\n",
      "4.0046168363859405 17.03347621406799\n",
      "4.0046168363859405 17.03347621406799\n",
      "4.0046168363859405 17.03347621406799\n",
      "4.0046168363859405 17.03347621406799\n",
      "4.0046168363859405 17.03347621406799\n",
      "4.0046168363859405 17.03347621406799\n",
      "4.0046168363859405 17.03347621406799\n",
      "4.0046168363859405 17.03347621406799\n",
      "4.0046168363859405 17.03347621406799\n",
      "4.0046168363859405 17.03347621406799\n",
      "4.0046168363859405 17.03347621406799\n",
      "4.0046168363859405 17.03347621406799\n",
      "4.0046168363859405 17.03347621406799\n",
      "4.0046168363859405 17.03347621406799\n",
      "4.0046168363859405 17.03347621406799\n",
      "4.0046168363859405 17.03347621406799\n",
      "4.0046168363859405 17.03347621406799\n",
      "4.0046168363859405 17.03347621406799\n",
      "4.0046168363859405 17.03347621406799\n",
      "4.0046168363859405 17.03347621406799\n",
      "4.0046168363859405 17.03347621406799\n",
      "4.0046168363859405 17.03347621406799\n",
      "4.0046168363859405 17.03347621406799\n",
      "4.0046168363859405 17.03347621406799\n",
      "4.0046168363859405 17.03347621406799\n",
      "4.0046168363859405 17.03347621406799\n",
      "4.0046168363859405 17.03347621406799\n",
      "time: 19.1 s\n"
     ]
    }
   ],
   "source": [
    "for i in range(epochs):\n",
    "    #Perform hill climbing\n",
    "    \n",
    "    m_adjust = normalvariate(0, 1)\n",
    "    b_adjust = normalvariate(0, 1)\n",
    "    \n",
    "    m += m_adjust\n",
    "    b += b_adjust\n",
    "    \n",
    "    #Calculate loss\n",
    "    new_loss = 1/n * sum((Y - (m*X + b))**2)\n",
    "\n",
    "     # If loss has improved, keep new values. Otherwise revert.\n",
    "    if new_loss < best_loss:\n",
    "        best_loss = new_loss\n",
    "    else:\n",
    "        m -= m_adjust\n",
    "        b -= b_adjust\n",
    "\n",
    "    if i % 1000 == 0:\n",
    "        print(m, b)\n",
    "    \n",
    "print(m,b)"
   ]
  },
  {
   "cell_type": "code",
   "execution_count": 37,
   "metadata": {},
   "outputs": [
    {
     "data": {
      "text/plain": [
       "38.00985767114176"
      ]
     },
     "execution_count": 37,
     "metadata": {},
     "output_type": "execute_result"
    },
    {
     "name": "stdout",
     "output_type": "stream",
     "text": [
      "time: 2.16 ms\n"
     ]
    }
   ],
   "source": [
    "5.25*3.959888369313459 + 17.220443732246096"
   ]
  },
  {
   "cell_type": "code",
   "execution_count": 17,
   "metadata": {},
   "outputs": [
    {
     "data": {
      "image/png": "[encoded data removed]",
      "text/plain": [
       "<Figure size 432x288 with 1 Axes>"
      ]
     },
     "metadata": {
      "needs_background": "light"
     },
     "output_type": "display_data"
    },
    {
     "name": "stdout",
     "output_type": "stream",
     "text": [
      "time: 239 ms\n"
     ]
    }
   ],
   "source": [
    "#Plot training data\n",
    "sns.regplot(x=\"x\", y=\"y\", data=data)\n",
    "\n",
    "#Plot model\n",
    "x = np.linspace(0,10,num=100)\n",
    "y = m*x+b\n",
    "plt.plot(x, y, 'r', label='y=mx+b')\n",
    "plt.title('Graph of y=mx+b')\n",
    "plt.xlabel('x')\n",
    "plt.ylabel('y')\n",
    "plt.legend(loc='upper left')\n",
    "plt.grid()\n",
    "\n",
    "plt.show()"
   ]
  },
  {
   "cell_type": "code",
   "execution_count": null,
   "metadata": {},
   "outputs": [],
   "source": []
  }
 ],
 "metadata": {
  "kernelspec": {
   "display_name": "Python 3",
   "language": "python",
   "name": "python3"
  },
  "language_info": {
   "codemirror_mode": {
    "name": "ipython",
    "version": 3
   },
   "file_extension": ".py",
   "mimetype": "text/x-python",
   "name": "python",
   "nbconvert_exporter": "python",
   "pygments_lexer": "ipython3",
   "version": "3.7.3"
  }
 },
 "nbformat": 4,
 "nbformat_minor": 2
}

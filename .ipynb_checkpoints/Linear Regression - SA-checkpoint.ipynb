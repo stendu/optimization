{
 "cells": [
  {
   "cell_type": "code",
   "execution_count": 1,
   "metadata": {},
   "outputs": [],
   "source": [
    "import pandas as pd\n",
    "from random import uniform, normalvariate, randint\n",
    "import numpy as np\n",
    "import seaborn as sns\n",
    "import matplotlib.pyplot as plt\n",
    "\n",
    "%load_ext autotime"
   ]
  },
  {
   "cell_type": "code",
   "execution_count": 2,
   "metadata": {},
   "outputs": [
    {
     "name": "stdout",
     "output_type": "stream",
     "text": [
      "time: 518 µs\n"
     ]
    }
   ],
   "source": [
    "# Generate random data for equation 4x + 5\n",
    "\n",
    "def f(x):\n",
    "    return 4*x + 5"
   ]
  },
  {
   "cell_type": "code",
   "execution_count": 3,
   "metadata": {},
   "outputs": [
    {
     "name": "stdout",
     "output_type": "stream",
     "text": [
      "time: 9.55 ms\n"
     ]
    }
   ],
   "source": [
    "data = pd.DataFrame(columns=[\"x\",\"y\"])"
   ]
  },
  {
   "cell_type": "code",
   "execution_count": 4,
   "metadata": {},
   "outputs": [
    {
     "name": "stdout",
     "output_type": "stream",
     "text": [
      "time: 762 ms\n"
     ]
    }
   ],
   "source": [
    "#Generate 1000 data points\n",
    "\n",
    "for i in range(1000):\n",
    "    x_axis = round(uniform(1,10),2)\n",
    "    y_axis = f(x_axis)\n",
    "    ydash_axis = y_axis + normalvariate(12,2)\n",
    "    data = data.append(pd.DataFrame(columns=[\"x\",\"y\"], data=[[x_axis, ydash_axis]]))"
   ]
  },
  {
   "cell_type": "code",
   "execution_count": 5,
   "metadata": {},
   "outputs": [
    {
     "data": {
      "text/html": [
       "<div>\n",
       "<style scoped>\n",
       "    .dataframe tbody tr th:only-of-type {\n",
       "        vertical-align: middle;\n",
       "    }\n",
       "\n",
       "    .dataframe tbody tr th {\n",
       "        vertical-align: top;\n",
       "    }\n",
       "\n",
       "    .dataframe thead th {\n",
       "        text-align: right;\n",
       "    }\n",
       "</style>\n",
       "<table border=\"1\" class=\"dataframe\">\n",
       "  <thead>\n",
       "    <tr style=\"text-align: right;\">\n",
       "      <th></th>\n",
       "      <th>x</th>\n",
       "      <th>y</th>\n",
       "    </tr>\n",
       "  </thead>\n",
       "  <tbody>\n",
       "    <tr>\n",
       "      <th>0</th>\n",
       "      <td>5.38</td>\n",
       "      <td>42.432077</td>\n",
       "    </tr>\n",
       "    <tr>\n",
       "      <th>0</th>\n",
       "      <td>5.83</td>\n",
       "      <td>38.397314</td>\n",
       "    </tr>\n",
       "    <tr>\n",
       "      <th>0</th>\n",
       "      <td>9.98</td>\n",
       "      <td>54.990989</td>\n",
       "    </tr>\n",
       "    <tr>\n",
       "      <th>0</th>\n",
       "      <td>9.71</td>\n",
       "      <td>55.058743</td>\n",
       "    </tr>\n",
       "    <tr>\n",
       "      <th>0</th>\n",
       "      <td>1.44</td>\n",
       "      <td>21.389219</td>\n",
       "    </tr>\n",
       "  </tbody>\n",
       "</table>\n",
       "</div>"
      ],
      "text/plain": [
       "      x          y\n",
       "0  5.38  42.432077\n",
       "0  5.83  38.397314\n",
       "0  9.98  54.990989\n",
       "0  9.71  55.058743\n",
       "0  1.44  21.389219"
      ]
     },
     "execution_count": 5,
     "metadata": {},
     "output_type": "execute_result"
    },
    {
     "name": "stdout",
     "output_type": "stream",
     "text": [
      "time: 17.9 ms\n"
     ]
    }
   ],
   "source": [
    "data.head(5)"
   ]
  },
  {
   "cell_type": "code",
   "execution_count": 6,
   "metadata": {},
   "outputs": [
    {
     "name": "stdout",
     "output_type": "stream",
     "text": [
      "time: 989 µs\n"
     ]
    }
   ],
   "source": [
    "# Get input data\n",
    "X = data.iloc[:, 0]\n",
    "Y = data.iloc[:, 1]"
   ]
  },
  {
   "cell_type": "code",
   "execution_count": 7,
   "metadata": {},
   "outputs": [
    {
     "name": "stdout",
     "output_type": "stream",
     "text": [
      "time: 603 µs\n"
     ]
    }
   ],
   "source": [
    "# Build the model using hill climbing optimization technique\n",
    "# Linear equation to be formed is y = mx + b\n",
    "m = 0\n",
    "b = 0"
   ]
  },
  {
   "cell_type": "code",
   "execution_count": 18,
   "metadata": {},
   "outputs": [
    {
     "name": "stdout",
     "output_type": "stream",
     "text": [
      "time: 1.03 ms\n"
     ]
    }
   ],
   "source": [
    "\n",
    "n = float(len(X))  # Number of elements in X\n",
    "\n",
    "epochs = 100_000\n",
    "temperature = 50.0\n",
    "decrement = temperature / epochs\n",
    "best_loss = 1_000_000_000.0"
   ]
  },
  {
   "cell_type": "code",
   "execution_count": 19,
   "metadata": {},
   "outputs": [
    {
     "name": "stdout",
     "output_type": "stream",
     "text": [
      "6.119744875731174 5.406206496824373\n",
      "1.8609082264641779 30.628473093657615\n",
      "0.5561752616470136 22.742247788048893\n",
      "2.354583974655325 29.08967927098705\n",
      "3.223082796681104 24.840001854495547\n",
      "1.9269037245347649 28.735304407732077\n",
      "5.0555011575757725 6.97715047499658\n",
      "2.4419111794076755 26.599053629132175\n",
      "6.827733899264613 7.995176474431179\n",
      "4.331776894332912 9.441164903238361\n",
      "5.737104122346335 12.290614955104795\n",
      "time: 51.7 s\n"
     ]
    }
   ],
   "source": [
    "for i in range(epochs):\n",
    "    #Perform SA\n",
    "    temperature -= decrement\n",
    "    current_loss = new_loss\n",
    "    \n",
    "    m_adjust = normalvariate(0, 1)\n",
    "    b_adjust = normalvariate(0, 1)\n",
    "    \n",
    "    m += m_adjust\n",
    "    b += b_adjust\n",
    "    \n",
    "    #Calculate loss\n",
    "    new_loss = 1/n * sum((Y - (m*X + b))**2)\n",
    "\n",
    "    # If loss has improved, keep new values. Otherwise revert.\n",
    "    if new_loss < best_loss:\n",
    "        best_loss = new_loss\n",
    "    elif np.random.uniform(0, 1) <= np.exp((-(new_loss - current_loss)) / temperature):\n",
    "        best_loss = new_loss\n",
    "    else:\n",
    "        m -= m_adjust\n",
    "        b -= b_adjust\n",
    "\n",
    "    # Fill the toss to check if we can accept inferior moves after every 1000 interations to avoid local minima\n",
    "    if i % 10000 == 0:\n",
    "        print(m,b)\n",
    "        \n",
    "print(m,b)"
   ]
  },
  {
   "cell_type": "code",
   "execution_count": 20,
   "metadata": {},
   "outputs": [
    {
     "data": {
      "text/plain": [
       "42.41041159742306"
      ]
     },
     "execution_count": 20,
     "metadata": {},
     "output_type": "execute_result"
    },
    {
     "name": "stdout",
     "output_type": "stream",
     "text": [
      "time: 2.01 ms\n"
     ]
    }
   ],
   "source": [
    "5.25*5.737104122346335 + 12.290614955104795"
   ]
  },
  {
   "cell_type": "code",
   "execution_count": 21,
   "metadata": {},
   "outputs": [
    {
     "data": {
      "image/png": "[encoded data removed]",
      "text/plain": [
       "<Figure size 432x288 with 1 Axes>"
      ]
     },
     "metadata": {
      "needs_background": "light"
     },
     "output_type": "display_data"
    },
    {
     "name": "stdout",
     "output_type": "stream",
     "text": [
      "time: 256 ms\n"
     ]
    }
   ],
   "source": [
    "#Plot training data\n",
    "sns.regplot(x=\"x\", y=\"y\", data=data)\n",
    "\n",
    "#Plot model\n",
    "x = np.linspace(0,10,num=100)\n",
    "y = m*x+b\n",
    "plt.plot(x, y, 'r', label='y=mx+b')\n",
    "plt.title('Graph of y=mx+b')\n",
    "plt.xlabel('x')\n",
    "plt.ylabel('y')\n",
    "plt.legend(loc='upper left')\n",
    "plt.grid()\n",
    "\n",
    "plt.show()"
   ]
  },
  {
   "cell_type": "code",
   "execution_count": null,
   "metadata": {},
   "outputs": [],
   "source": []
  }
 ],
 "metadata": {
  "kernelspec": {
   "display_name": "Python 3",
   "language": "python",
   "name": "python3"
  },
  "language_info": {
   "codemirror_mode": {
    "name": "ipython",
    "version": 3
   },
   "file_extension": ".py",
   "mimetype": "text/x-python",
   "name": "python",
   "nbconvert_exporter": "python",
   "pygments_lexer": "ipython3",
   "version": "3.7.3"
  }
 },
 "nbformat": 4,
 "nbformat_minor": 2
}

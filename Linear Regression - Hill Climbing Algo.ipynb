{
 "cells": [
  {
   "cell_type": "code",
   "execution_count": 4,
   "metadata": {},
   "outputs": [],
   "source": [
    "import pandas as pd\n",
    "from random import uniform, normalvariate, randint\n",
    "import numpy as np\n",
    "\n",
    "%load_ext autotime"
   ]
  },
  {
   "cell_type": "code",
   "execution_count": 5,
   "metadata": {},
   "outputs": [
    {
     "name": "stdout",
     "output_type": "stream",
     "text": [
      "time: 1.77 ms\n"
     ]
    }
   ],
   "source": [
    "# Generate random data for equation 4x + 5\n",
    "\n",
    "def f(x):\n",
    "    return 4*x + 5"
   ]
  },
  {
   "cell_type": "code",
   "execution_count": 6,
   "metadata": {},
   "outputs": [
    {
     "name": "stdout",
     "output_type": "stream",
     "text": [
      "time: 18.8 ms\n"
     ]
    }
   ],
   "source": [
    "data = pd.DataFrame(columns=[\"x\",\"y\"])"
   ]
  },
  {
   "cell_type": "code",
   "execution_count": 14,
   "metadata": {},
   "outputs": [
    {
     "name": "stdout",
     "output_type": "stream",
     "text": [
      "time: 810 ms\n"
     ]
    }
   ],
   "source": [
    "#Generate 1000 data points\n",
    "\n",
    "for i in range(1000):\n",
    "    x_axis = round(uniform(1,10),2)\n",
    "    y_axis = f(x_axis)\n",
    "    ydash_axis = y_axis + normalvariate(12,2)\n",
    "    data = data.append(pd.DataFrame(columns=[\"x\",\"y\"], data=[[x_axis, ydash_axis]]))"
   ]
  },
  {
   "cell_type": "code",
   "execution_count": 16,
   "metadata": {},
   "outputs": [
    {
     "data": {
      "text/html": [
       "<div>\n",
       "<style scoped>\n",
       "    .dataframe tbody tr th:only-of-type {\n",
       "        vertical-align: middle;\n",
       "    }\n",
       "\n",
       "    .dataframe tbody tr th {\n",
       "        vertical-align: top;\n",
       "    }\n",
       "\n",
       "    .dataframe thead th {\n",
       "        text-align: right;\n",
       "    }\n",
       "</style>\n",
       "<table border=\"1\" class=\"dataframe\">\n",
       "  <thead>\n",
       "    <tr style=\"text-align: right;\">\n",
       "      <th></th>\n",
       "      <th>x</th>\n",
       "      <th>y</th>\n",
       "    </tr>\n",
       "  </thead>\n",
       "  <tbody>\n",
       "    <tr>\n",
       "      <th>0</th>\n",
       "      <td>9.10</td>\n",
       "      <td>53.777165</td>\n",
       "    </tr>\n",
       "    <tr>\n",
       "      <th>0</th>\n",
       "      <td>5.57</td>\n",
       "      <td>35.633037</td>\n",
       "    </tr>\n",
       "    <tr>\n",
       "      <th>0</th>\n",
       "      <td>5.25</td>\n",
       "      <td>37.487302</td>\n",
       "    </tr>\n",
       "    <tr>\n",
       "      <th>0</th>\n",
       "      <td>2.42</td>\n",
       "      <td>26.952174</td>\n",
       "    </tr>\n",
       "    <tr>\n",
       "      <th>0</th>\n",
       "      <td>5.51</td>\n",
       "      <td>40.611429</td>\n",
       "    </tr>\n",
       "  </tbody>\n",
       "</table>\n",
       "</div>"
      ],
      "text/plain": [
       "      x          y\n",
       "0  9.10  53.777165\n",
       "0  5.57  35.633037\n",
       "0  5.25  37.487302\n",
       "0  2.42  26.952174\n",
       "0  5.51  40.611429"
      ]
     },
     "execution_count": 16,
     "metadata": {},
     "output_type": "execute_result"
    },
    {
     "name": "stdout",
     "output_type": "stream",
     "text": [
      "time: 8.65 ms\n"
     ]
    }
   ],
   "source": [
    "data.head(5)"
   ]
  },
  {
   "cell_type": "code",
   "execution_count": 17,
   "metadata": {},
   "outputs": [
    {
     "name": "stdout",
     "output_type": "stream",
     "text": [
      "time: 1.2 ms\n"
     ]
    }
   ],
   "source": [
    "# Get input data\n",
    "X = data.iloc[:, 0]\n",
    "Y = data.iloc[:, 1]"
   ]
  },
  {
   "cell_type": "code",
   "execution_count": 18,
   "metadata": {},
   "outputs": [
    {
     "name": "stdout",
     "output_type": "stream",
     "text": [
      "time: 413 µs\n"
     ]
    }
   ],
   "source": [
    "# Build the model using hill climbing optimization technique\n",
    "# Linear equation to be formed is y = mx + b\n",
    "m = 0\n",
    "b = 0"
   ]
  },
  {
   "cell_type": "code",
   "execution_count": 33,
   "metadata": {},
   "outputs": [
    {
     "name": "stdout",
     "output_type": "stream",
     "text": [
      "time: 757 µs\n"
     ]
    }
   ],
   "source": [
    "epochs = 40000 # number of iterations\n",
    "n = float(len(X))  # Number of elements in X\n",
    "best_loss = 10000000000000.0  # Initialize with a really large value"
   ]
  },
  {
   "cell_type": "code",
   "execution_count": 36,
   "metadata": {},
   "outputs": [
    {
     "name": "stdout",
     "output_type": "stream",
     "text": [
      "3.9643932540225477 17.205397925235587\n",
      "3.9643932540225517 17.205397925235587\n",
      "3.964393254022547 17.205397925235587\n",
      "3.9643932540225366 17.205397925235587\n",
      "3.964393254022542 17.205397925235587\n",
      "3.96439325402254 17.205397925235587\n",
      "3.964393254022543 17.205397925235587\n",
      "3.9643932540225393 17.205397925235587\n",
      "3.964393254022552 17.205397925235587\n",
      "3.960619622338891 17.200134461091082\n",
      "3.9606196223388888 17.200134461091082\n",
      "3.9606196223388865 17.200134461091082\n",
      "3.9606196223388856 17.200134461091082\n",
      "3.9606196223388785 17.200134461091082\n",
      "3.9606196223388914 17.200134461091082\n",
      "3.9606196223388945 17.200134461091082\n",
      "3.960619622338899 17.200134461091082\n",
      "3.960619622338898 17.200134461091082\n",
      "3.9606196223388945 17.200134461091082\n",
      "3.960619622338891 17.200134461091082\n",
      "3.9606196223388874 17.200134461091082\n",
      "3.9606196223389016 17.200134461091082\n",
      "3.9606196223389025 17.200134461091082\n",
      "3.9606196223389043 17.200134461091082\n",
      "3.9606196223389016 17.200134461091082\n",
      "3.9606196223389016 17.200134461091082\n",
      "3.9606196223389065 17.200134461091082\n",
      "3.960619622338907 17.200134461091082\n",
      "3.9606196223389056 17.200134461091082\n",
      "3.9606196223389047 17.200134461091082\n",
      "3.9606196223389096 17.200134461091082\n",
      "3.9606196223389003 17.200134461091082\n",
      "3.960619622338903 17.200134461091082\n",
      "3.960619622338914 17.200134461091082\n",
      "3.9606196223389167 17.200134461091082\n",
      "3.960619622338905 17.200134461091082\n",
      "3.9606196223389105 17.200134461091082\n",
      "3.960619622338901 17.200134461091082\n",
      "3.9606196223388914 17.200134461091082\n",
      "3.959888369313453 17.220443732246096\n",
      "3.959888369313459 17.220443732246096\n",
      "time: 19.2 s\n"
     ]
    }
   ],
   "source": [
    "for i in range(epochs):\n",
    "    #Perform hill climbing\n",
    "    \n",
    "    m_adjust = normalvariate(0, 1)\n",
    "    b_adjust = normalvariate(0, 1)\n",
    "    \n",
    "    m += m_adjust\n",
    "    b += b_adjust\n",
    "    \n",
    "    #Calculate loss\n",
    "    new_loss = 1/n * sum((Y - (m*X + b))**2)\n",
    "\n",
    "     # If loss has improved, keep new values. Otherwise revert.\n",
    "    if new_loss < best_loss:\n",
    "        best_loss = new_loss\n",
    "    else:\n",
    "        m -= m_adjust\n",
    "        b -= b_adjust\n",
    "\n",
    "    if i % 1000 == 0:\n",
    "        print(m, b)\n",
    "    \n",
    "print(m,b)"
   ]
  },
  {
   "cell_type": "code",
   "execution_count": 37,
   "metadata": {},
   "outputs": [
    {
     "data": {
      "text/plain": [
       "38.00985767114176"
      ]
     },
     "execution_count": 37,
     "metadata": {},
     "output_type": "execute_result"
    },
    {
     "name": "stdout",
     "output_type": "stream",
     "text": [
      "time: 2.16 ms\n"
     ]
    }
   ],
   "source": [
    "5.25*3.959888369313459 + 17.220443732246096"
   ]
  },
  {
   "cell_type": "code",
   "execution_count": null,
   "metadata": {},
   "outputs": [],
   "source": []
  }
 ],
 "metadata": {
  "kernelspec": {
   "display_name": "Python 3",
   "language": "python",
   "name": "python3"
  },
  "language_info": {
   "codemirror_mode": {
    "name": "ipython",
    "version": 3
   },
   "file_extension": ".py",
   "mimetype": "text/x-python",
   "name": "python",
   "nbconvert_exporter": "python",
   "pygments_lexer": "ipython3",
   "version": "3.7.3"
  }
 },
 "nbformat": 4,
 "nbformat_minor": 2
}
